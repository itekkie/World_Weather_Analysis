{
 "cells": [
  {
   "cell_type": "code",
   "execution_count": 1,
   "id": "6b1b1dfc",
   "metadata": {},
   "outputs": [],
   "source": [
    "# Import the random module.\n",
    "import random"
   ]
  },
  {
   "cell_type": "code",
   "execution_count": 2,
   "id": "86e87cbb",
   "metadata": {},
   "outputs": [],
   "source": [
    "x = 1\n",
    "latitudes = [] #store the resulsts of looping\n",
    "while x < 11:\n",
    "    random_lat = random.randint(-90, 89) + random.random()\n",
    "    latitudes.append(random_lat)\n",
    "    x += 1"
   ]
  },
  {
   "cell_type": "code",
   "execution_count": 3,
   "id": "68524bd3",
   "metadata": {},
   "outputs": [
    {
     "data": {
      "text/plain": [
       "[-58.15079463729448,\n",
       " -29.135165436004556,\n",
       " -30.33516030721628,\n",
       " 1.4036483991435402,\n",
       " -70.32852663780933,\n",
       " -22.886531016651986,\n",
       " -35.83473761632604,\n",
       " -52.51616148184168,\n",
       " -85.41854787470508,\n",
       " -14.555575995661016]"
      ]
     },
     "execution_count": 3,
     "metadata": {},
     "output_type": "execute_result"
    }
   ],
   "source": [
    "latitudes"
   ]
  },
  {
   "cell_type": "code",
   "execution_count": 4,
   "id": "c58135fc",
   "metadata": {},
   "outputs": [
    {
     "data": {
      "text/plain": [
       "-1"
      ]
     },
     "execution_count": 4,
     "metadata": {},
     "output_type": "execute_result"
    }
   ],
   "source": [
    "random.randrange(-90, 90, step=1) "
   ]
  },
  {
   "cell_type": "code",
   "execution_count": 5,
   "id": "9bcfc97b",
   "metadata": {},
   "outputs": [
    {
     "data": {
      "text/plain": [
       "-48"
      ]
     },
     "execution_count": 5,
     "metadata": {},
     "output_type": "execute_result"
    }
   ],
   "source": [
    "random.randrange(-90, 90, step=3)"
   ]
  },
  {
   "cell_type": "code",
   "execution_count": 6,
   "id": "918e8f6a",
   "metadata": {},
   "outputs": [],
   "source": [
    "# Import the NumPy module.\n",
    "import numpy as np"
   ]
  },
  {
   "cell_type": "code",
   "execution_count": 7,
   "id": "3363d280",
   "metadata": {},
   "outputs": [
    {
     "data": {
      "text/plain": [
       "-43.52191175277302"
      ]
     },
     "execution_count": 7,
     "metadata": {},
     "output_type": "execute_result"
    }
   ],
   "source": [
    "np.random.uniform(-90.000, 90.000)"
   ]
  },
  {
   "cell_type": "code",
   "execution_count": 8,
   "id": "ebed1b03",
   "metadata": {},
   "outputs": [
    {
     "data": {
      "text/plain": [
       "array([ 50.27417895,  77.2491265 , -80.03822737,  76.93352205,\n",
       "         0.95401307,  65.37343489,  27.82245742,  69.73627771,\n",
       "         3.54496612,  56.0206604 , -63.66727154,  36.2929962 ,\n",
       "        -0.76947671, -54.02345616,  16.17462101,  45.26064975,\n",
       "        45.35671195, -53.06481024, -51.52941926,  19.43205878,\n",
       "        51.37675111, -67.76165185, -68.19094746, -45.61989757,\n",
       "        71.11908195, -29.30655285,  45.54165568,  56.37085611,\n",
       "        73.64503835, -79.45475207,  51.24392903,  80.33070284,\n",
       "        32.7874279 , -89.01456697, -82.65284822,  83.00160351,\n",
       "       -47.06322414,  36.93114402,  55.6582408 ,  57.63606295,\n",
       "       -65.93445641,  40.70440938, -84.74814318,  17.69425138,\n",
       "       -40.62957399,  70.12737359,  76.89249198,  58.32764983,\n",
       "        48.28207607,  10.07695479])"
      ]
     },
     "execution_count": 8,
     "metadata": {},
     "output_type": "execute_result"
    }
   ],
   "source": [
    "np.random.uniform(-90.000, 90.000, size=50)"
   ]
  },
  {
   "cell_type": "code",
   "execution_count": 9,
   "id": "bbcb9b3c",
   "metadata": {},
   "outputs": [],
   "source": [
    "# Import timeit.\n",
    "import timeit"
   ]
  },
  {
   "cell_type": "code",
   "execution_count": 10,
   "id": "46126e99",
   "metadata": {},
   "outputs": [
    {
     "name": "stdout",
     "output_type": "stream",
     "text": [
      "15.1 µs ± 292 ns per loop (mean ± std. dev. of 7 runs, 100000 loops each)\n"
     ]
    }
   ],
   "source": [
    "#The output is the amount of time it took to run this code\n",
    "%timeit np.random.uniform(-90.000, 90.000, size=1500)"
   ]
  },
  {
   "cell_type": "code",
   "execution_count": 11,
   "id": "a6793178",
   "metadata": {},
   "outputs": [
    {
     "name": "stdout",
     "output_type": "stream",
     "text": [
      "1.44 ms ± 25.9 µs per loop (mean ± std. dev. of 7 runs, 1000 loops each)\n"
     ]
    }
   ],
   "source": [
    "def latitudes(size):\n",
    "    latitudes = []\n",
    "    x = 0\n",
    "    while x < (size):\n",
    "        random_lat = random.randint(-90, 90) + random.random()\n",
    "        latitudes.append(random_lat)\n",
    "        x += 1\n",
    "    return latitudes\n",
    "# Call the function with 1500.\n",
    "%timeit latitudes(1500)"
   ]
  },
  {
   "cell_type": "code",
   "execution_count": 12,
   "id": "e38a3224",
   "metadata": {},
   "outputs": [
    {
     "name": "stdout",
     "output_type": "stream",
     "text": [
      "237 ns ± 3.14 ns per loop (mean ± std. dev. of 7 runs, 1000000 loops each)\n"
     ]
    }
   ],
   "source": [
    "def latitude(siz):\n",
    "    latit = []\n",
    "    y = 0\n",
    "    \n",
    "    for y in range(len(latit)):\n",
    "        random_latit = random.randint(-90, 90) + random.random()\n",
    "        latit.append(random_latit)\n",
    "        y += 1\n",
    "    return latit\n",
    "# Call the function with 1500.\n",
    "%timeit latitude(1500)"
   ]
  },
  {
   "cell_type": "code",
   "execution_count": 13,
   "id": "0bd6d688",
   "metadata": {},
   "outputs": [],
   "source": [
    "# Import linear regression from the SciPy stats module.\n",
    "from scipy.stats import linregress"
   ]
  },
  {
   "cell_type": "code",
   "execution_count": 14,
   "id": "daf1fcff",
   "metadata": {},
   "outputs": [],
   "source": [
    "# Create an equal number of latitudes and temperatures.\n",
    "lats = [42.5, 43.9, 8.1, 36.8, 79.9, 69.1, 25.7, 15.3, 12.7, 64.5]\n",
    "temps = [80.5, 75.3, 90.9, 90.0, 40.4, 62.3, 85.4, 79.6, 72.5, 72.0]"
   ]
  },
  {
   "cell_type": "code",
   "execution_count": 15,
   "id": "854456d6",
   "metadata": {},
   "outputs": [
    {
     "name": "stdout",
     "output_type": "stream",
     "text": [
      "y = -0.45x + 92.94\n",
      "The p-value is: 0.011\n"
     ]
    }
   ],
   "source": [
    "# Perform linear regression: the slope, y-intercept, correlation coefficient (r-value), p-value, and standard deviation\n",
    "(slope, intercept, r_value, p_value, std_err) = linregress(lats, temps)\n",
    "# Get the equation of the line.\n",
    "line_eq = \"y = \" + str(round(slope,2)) + \"x + \" + str(round(intercept,2))\n",
    "print(line_eq)\n",
    "print(f\"The p-value is: {p_value:.3f}\")"
   ]
  },
  {
   "cell_type": "code",
   "execution_count": null,
   "id": "082e21dd",
   "metadata": {},
   "outputs": [],
   "source": []
  }
 ],
 "metadata": {
  "kernelspec": {
   "display_name": "PythonData",
   "language": "python",
   "name": "pythondata"
  },
  "language_info": {
   "codemirror_mode": {
    "name": "ipython",
    "version": 3
   },
   "file_extension": ".py",
   "mimetype": "text/x-python",
   "name": "python",
   "nbconvert_exporter": "python",
   "pygments_lexer": "ipython3",
   "version": "3.8.8"
  }
 },
 "nbformat": 4,
 "nbformat_minor": 5
}
