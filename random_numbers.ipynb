{
 "cells": [
  {
   "cell_type": "code",
   "execution_count": 6,
   "id": "6b1b1dfc",
   "metadata": {},
   "outputs": [],
   "source": [
    "# Import the random module.\n",
    "import random"
   ]
  },
  {
   "cell_type": "code",
   "execution_count": 9,
   "id": "86e87cbb",
   "metadata": {},
   "outputs": [],
   "source": [
    "x = 1\n",
    "latitudes = [] #store the resulsts of looping\n",
    "while x < 11:\n",
    "    random_lat = random.randint(-90, 89) + random.random()\n",
    "    latitudes.append(random_lat)\n",
    "    x += 1"
   ]
  },
  {
   "cell_type": "code",
   "execution_count": 10,
   "id": "68524bd3",
   "metadata": {},
   "outputs": [
    {
     "data": {
      "text/plain": [
       "[-4.203327302175955,\n",
       " 23.371567265173937,\n",
       " 86.35203757217177,\n",
       " -6.653184464450714,\n",
       " 41.84705101609517,\n",
       " 5.078843728607732,\n",
       " 69.98991432908142,\n",
       " 54.33667652185102,\n",
       " 25.263355664474922,\n",
       " -26.687462303782777]"
      ]
     },
     "execution_count": 10,
     "metadata": {},
     "output_type": "execute_result"
    }
   ],
   "source": [
    "latitudes"
   ]
  },
  {
   "cell_type": "code",
   "execution_count": 11,
   "id": "c58135fc",
   "metadata": {},
   "outputs": [
    {
     "data": {
      "text/plain": [
       "-14"
      ]
     },
     "execution_count": 11,
     "metadata": {},
     "output_type": "execute_result"
    }
   ],
   "source": [
    "random.randrange(-90, 90, step=1) "
   ]
  },
  {
   "cell_type": "code",
   "execution_count": 12,
   "id": "9bcfc97b",
   "metadata": {},
   "outputs": [
    {
     "data": {
      "text/plain": [
       "36"
      ]
     },
     "execution_count": 12,
     "metadata": {},
     "output_type": "execute_result"
    }
   ],
   "source": [
    "random.randrange(-90, 90, step=3)"
   ]
  },
  {
   "cell_type": "code",
   "execution_count": 13,
   "id": "918e8f6a",
   "metadata": {},
   "outputs": [],
   "source": [
    "# Import the NumPy module.\n",
    "import numpy as np"
   ]
  },
  {
   "cell_type": "code",
   "execution_count": 14,
   "id": "3363d280",
   "metadata": {},
   "outputs": [
    {
     "data": {
      "text/plain": [
       "-70.24512779788262"
      ]
     },
     "execution_count": 14,
     "metadata": {},
     "output_type": "execute_result"
    }
   ],
   "source": [
    "np.random.uniform(-90.000, 90.000)"
   ]
  },
  {
   "cell_type": "code",
   "execution_count": 16,
   "id": "ebed1b03",
   "metadata": {},
   "outputs": [
    {
     "data": {
      "text/plain": [
       "array([-85.97046045,  23.5111193 , -50.07967795,  24.91987041,\n",
       "        23.76369131, -34.41788469, -34.62546642,  31.65759847,\n",
       "       -31.10266352,  55.51458246, -11.09347008,  62.64978483,\n",
       "         8.18437794, -89.43450318, -41.70372562,   1.23534335,\n",
       "       -44.58273823, -48.75170628, -65.49650706,  76.09029404,\n",
       "        19.34866589,  10.16914437, -53.08001654, -17.79957839,\n",
       "       -51.45404747,  44.72783546,  35.88955183,  15.22409444,\n",
       "       -46.22674946, -42.17195194, -18.79850467, -70.21386515,\n",
       "        36.97822635, -62.99397026,  80.2643095 , -89.77971178,\n",
       "       -35.64836235, -86.00238903,  77.48765519, -64.78765598,\n",
       "       -80.65353543,   0.14014359,  67.68092463,  31.40734812,\n",
       "       -31.14095273, -37.73860567,  18.57787351,  50.68633773,\n",
       "         8.63000694,  66.0090581 ])"
      ]
     },
     "execution_count": 16,
     "metadata": {},
     "output_type": "execute_result"
    }
   ],
   "source": [
    "np.random.uniform(-90.000, 90.000, size=50)"
   ]
  },
  {
   "cell_type": "code",
   "execution_count": 37,
   "id": "bbcb9b3c",
   "metadata": {},
   "outputs": [],
   "source": [
    "# Import timeit.\n",
    "import timeit"
   ]
  },
  {
   "cell_type": "code",
   "execution_count": 38,
   "id": "46126e99",
   "metadata": {},
   "outputs": [
    {
     "name": "stdout",
     "output_type": "stream",
     "text": [
      "16.9 µs ± 2.97 µs per loop (mean ± std. dev. of 7 runs, 100000 loops each)\n"
     ]
    }
   ],
   "source": [
    "#The output is the amount of time it took to run this code\n",
    "%timeit np.random.uniform(-90.000, 90.000, size=1500)"
   ]
  },
  {
   "cell_type": "code",
   "execution_count": 54,
   "id": "a6793178",
   "metadata": {},
   "outputs": [
    {
     "name": "stdout",
     "output_type": "stream",
     "text": [
      "1.5 ms ± 68.6 µs per loop (mean ± std. dev. of 7 runs, 1000 loops each)\n"
     ]
    }
   ],
   "source": [
    "def latitudes(size):\n",
    "    latitudes = []\n",
    "    x = 0\n",
    "    while x < (size):\n",
    "        random_lat = random.randint(-90, 90) + random.random()\n",
    "        latitudes.append(random_lat)\n",
    "        x += 1\n",
    "    return latitudes\n",
    "# Call the function with 1500.\n",
    "%timeit latitudes(1500)"
   ]
  },
  {
   "cell_type": "code",
   "execution_count": 56,
   "id": "e38a3224",
   "metadata": {},
   "outputs": [
    {
     "name": "stdout",
     "output_type": "stream",
     "text": [
      "261 ns ± 14.6 ns per loop (mean ± std. dev. of 7 runs, 1000000 loops each)\n"
     ]
    }
   ],
   "source": [
    "def latitude(siz):\n",
    "    latit = []\n",
    "    y = 0\n",
    "    \n",
    "    for y in range(len(latit)):\n",
    "        random_latit = random.randint(-90, 90) + random.random()\n",
    "        latit.append(random_latit)\n",
    "        y += 1\n",
    "    return latit\n",
    "# Call the function with 1500.\n",
    "%timeit latitude(1500)"
   ]
  },
  {
   "cell_type": "code",
   "execution_count": null,
   "id": "0bd6d688",
   "metadata": {},
   "outputs": [],
   "source": []
  }
 ],
 "metadata": {
  "kernelspec": {
   "display_name": "PythonData",
   "language": "python",
   "name": "pythondata"
  },
  "language_info": {
   "codemirror_mode": {
    "name": "ipython",
    "version": 3
   },
   "file_extension": ".py",
   "mimetype": "text/x-python",
   "name": "python",
   "nbconvert_exporter": "python",
   "pygments_lexer": "ipython3",
   "version": "3.8.8"
  }
 },
 "nbformat": 4,
 "nbformat_minor": 5
}
